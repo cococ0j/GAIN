{
  "nbformat": 4,
  "nbformat_minor": 0,
  "metadata": {
    "colab": {
      "name": "GAIN.ipynb",
      "version": "0.3.2",
      "provenance": [],
      "include_colab_link": true
    }
  },
  "cells": [
    {
      "cell_type": "markdown",
      "metadata": {
        "id": "view-in-github",
        "colab_type": "text"
      },
      "source": [
        "[View in Colaboratory](https://colab.research.google.com/github/cococ0j/GAIN/blob/master/GAIN_test.ipynb)"
      ]
    },
    {
      "metadata": {
        "id": "GAvNhQq6OlGR",
        "colab_type": "code",
        "colab": {}
      },
      "cell_type": "code",
      "source": [
        "'''\n",
        "Written by Jinsung Yoon\n",
        "Date: Jul 9th 2018\n",
        "\n",
        "Generative Adversarial Imputation Networks (GAIN) Implementation on MNIST\n",
        "\n",
        "Reference: J. Yoon, J. Jordon, M. van der Schaar, \"GAIN: Missing Data Imputation using Generative Adversarial Nets,\" ICML, 2018.\n",
        "Paper Link: http://medianetlab.ee.ucla.edu/papers/ICML_GAIN.pdf\n",
        "Appendix Link: http://medianetlab.ee.ucla.edu/papers/ICML_GAIN_Supp.pdf\n",
        "\n",
        "Contact: jsyoon0823@g.ucla.edu\n",
        "'''\n",
        "\n",
        "#%% Packages\n",
        "import tensorflow as tf\n",
        "from tensorflow.examples.tutorials.mnist import input_data\n",
        "import numpy as np\n",
        "import matplotlib.pyplot as plt\n",
        "import matplotlib.gridspec as gridspec\n",
        "import os\n",
        "from tqdm import tqdm\n",
        "\n",
        "\n"
      ],
      "execution_count": 0,
      "outputs": []
    },
    {
      "metadata": {
        "id": "PT0ws6N0PiVi",
        "colab_type": "code",
        "colab": {
          "base_uri": "https://localhost:8080/",
          "height": 346
        },
        "outputId": "bd46f365-150f-4a13-9bf5-1535db99b9fc"
      },
      "cell_type": "code",
      "source": [
        "! pip3 install tensorflow"
      ],
      "execution_count": 2,
      "outputs": [
        {
          "output_type": "stream",
          "text": [
            "Requirement already satisfied: tensorflow in /usr/local/lib/python3.6/dist-packages (1.10.1)\n",
            "Requirement already satisfied: absl-py>=0.1.6 in /usr/local/lib/python3.6/dist-packages (from tensorflow) (0.5.0)\n",
            "Requirement already satisfied: wheel>=0.26 in /usr/local/lib/python3.6/dist-packages (from tensorflow) (0.31.1)\n",
            "Requirement already satisfied: termcolor>=1.1.0 in /usr/local/lib/python3.6/dist-packages (from tensorflow) (1.1.0)\n",
            "Requirement already satisfied: tensorboard<1.11.0,>=1.10.0 in /usr/local/lib/python3.6/dist-packages (from tensorflow) (1.10.0)\n",
            "Requirement already satisfied: setuptools<=39.1.0 in /usr/local/lib/python3.6/dist-packages (from tensorflow) (39.1.0)\n",
            "Requirement already satisfied: gast>=0.2.0 in /usr/local/lib/python3.6/dist-packages (from tensorflow) (0.2.0)\n",
            "Requirement already satisfied: grpcio>=1.8.6 in /usr/local/lib/python3.6/dist-packages (from tensorflow) (1.15.0)\n",
            "Requirement already satisfied: six>=1.10.0 in /usr/local/lib/python3.6/dist-packages (from tensorflow) (1.11.0)\n",
            "Requirement already satisfied: numpy<=1.14.5,>=1.13.3 in /usr/local/lib/python3.6/dist-packages (from tensorflow) (1.14.5)\n",
            "Requirement already satisfied: protobuf>=3.6.0 in /usr/local/lib/python3.6/dist-packages (from tensorflow) (3.6.1)\n",
            "Requirement already satisfied: astor>=0.6.0 in /usr/local/lib/python3.6/dist-packages (from tensorflow) (0.7.1)\n",
            "Requirement already satisfied: markdown>=2.6.8 in /usr/local/lib/python3.6/dist-packages (from tensorboard<1.11.0,>=1.10.0->tensorflow) (2.6.11)\n",
            "Requirement already satisfied: werkzeug>=0.11.10 in /usr/local/lib/python3.6/dist-packages (from tensorboard<1.11.0,>=1.10.0->tensorflow) (0.14.1)\n"
          ],
          "name": "stdout"
        }
      ]
    },
    {
      "metadata": {
        "id": "ENrBZdHrPc4G",
        "colab_type": "code",
        "colab": {
          "base_uri": "https://localhost:8080/",
          "height": 85
        },
        "outputId": "0a55f988-548a-4923-abe3-029bdeaa3697"
      },
      "cell_type": "code",
      "source": [
        "#%% Data Input\n",
        "# MNIST\n",
        "mnist = input_data.read_data_sets('../../MNIST_data', one_hot = True)\n",
        "\n"
      ],
      "execution_count": 4,
      "outputs": [
        {
          "output_type": "stream",
          "text": [
            "Extracting ../../MNIST_data/train-images-idx3-ubyte.gz\n",
            "Extracting ../../MNIST_data/train-labels-idx1-ubyte.gz\n",
            "Extracting ../../MNIST_data/t10k-images-idx3-ubyte.gz\n",
            "Extracting ../../MNIST_data/t10k-labels-idx1-ubyte.gz\n"
          ],
          "name": "stdout"
        }
      ]
    },
    {
      "metadata": {
        "id": "tgV25j3yO1Ba",
        "colab_type": "code",
        "colab": {
          "base_uri": "https://localhost:8080/",
          "height": 6834
        },
        "outputId": "cfa54a97-7d76-478e-d763-78cc6bc95d64"
      },
      "cell_type": "code",
      "source": [
        "#%% System Parameters\n",
        "# 1. Mini batch size\n",
        "mb_size = 128\n",
        "# 2. Missing rate\n",
        "p_miss = 0.5\n",
        "# 3. Hint rate\n",
        "p_hint = 0.9\n",
        "# 4. Loss Hyperparameters\n",
        "alpha = 10\n",
        "# 5. Imput Dim (Fixed)\n",
        "Dim = 784\n",
        "\n",
        "#%% Necessary Functions\n",
        "# 1. Xavier Initialization Definition\n",
        "def xavier_init(size):\n",
        "    in_dim = size[0]\n",
        "    xavier_stddev = 1. / tf.sqrt(in_dim / 2.)\n",
        "    return tf.random_normal(shape = size, stddev = xavier_stddev)\n",
        "    \n",
        "# 2. Plot (4 x 4 subfigures)\n",
        "def plot(samples):\n",
        "    fig = plt.figure(figsize = (5,5))\n",
        "    gs = gridspec.GridSpec(5,5)\n",
        "    gs.update(wspace=0.05, hspace=0.05)\n",
        "    \n",
        "    for i, sample in enumerate(samples):\n",
        "        ax = plt.subplot(gs[i])\n",
        "        plt.axis('off')\n",
        "        ax.set_xticklabels([])\n",
        "        ax.set_yticklabels([])\n",
        "        ax.set_aspect('equal')\n",
        "        plt.imshow(sample.reshape(28,28), cmap='Greys_r')\n",
        "        \n",
        "    return fig\n",
        "   \n",
        "'''\n",
        "GAIN Consists of 3 Components\n",
        "- Generator\n",
        "- Discriminator\n",
        "- Hint Mechanism\n",
        "'''   \n",
        "   \n",
        "#%% GAIN Architecture   \n",
        "   \n",
        "#%% 1. Input Placeholders\n",
        "# 1.1. Data Vector\n",
        "X = tf.placeholder(tf.float32, shape = [None, Dim])\n",
        "# 1.2. Mask Vector \n",
        "M = tf.placeholder(tf.float32, shape = [None, Dim])\n",
        "# 1.3. Hint vector\n",
        "H = tf.placeholder(tf.float32, shape = [None, Dim])\n",
        "# 1.4. Random Noise Vector\n",
        "Z = tf.placeholder(tf.float32, shape = [None, Dim])\n",
        "\n",
        "#%% 2. Discriminator\n",
        "D_W1 = tf.Variable(xavier_init([Dim*2, 256]))     # Data + Hint as inputs\n",
        "D_b1 = tf.Variable(tf.zeros(shape = [256]))\n",
        "\n",
        "D_W2 = tf.Variable(xavier_init([256, 128]))\n",
        "D_b2 = tf.Variable(tf.zeros(shape = [128]))\n",
        "\n",
        "D_W3 = tf.Variable(xavier_init([128, Dim]))\n",
        "D_b3 = tf.Variable(tf.zeros(shape = [Dim]))       # Output is multi-variate\n",
        "\n",
        "theta_D = [D_W1, D_W2, D_W3, D_b1, D_b2, D_b3]\n",
        "\n",
        "#%% 3. Generator\n",
        "G_W1 = tf.Variable(xavier_init([Dim*2, 256]))     # Data + Mask as inputs (Random Noises are in Missing Components)\n",
        "G_b1 = tf.Variable(tf.zeros(shape = [256]))\n",
        "\n",
        "G_W2 = tf.Variable(xavier_init([256, 128]))\n",
        "G_b2 = tf.Variable(tf.zeros(shape = [128]))\n",
        "\n",
        "G_W3 = tf.Variable(xavier_init([128, Dim]))\n",
        "G_b3 = tf.Variable(tf.zeros(shape = [Dim]))\n",
        "\n",
        "theta_G = [G_W1, G_W2, G_W3, G_b1, G_b2, G_b3]\n",
        "\n",
        "#%% GAIN Function\n",
        "\n",
        "#%% 1. Generator\n",
        "def generator(x,z,m):\n",
        "    inp = m * x + (1-m) * z  # Fill in random noise on the missing values\n",
        "    inputs = tf.concat(axis = 1, values = [inp,m])  # Mask + Data Concatenate\n",
        "    G_h1 = tf.nn.relu(tf.matmul(inputs, G_W1) + G_b1)\n",
        "    G_h2 = tf.nn.relu(tf.matmul(G_h1, G_W2) + G_b2)\n",
        "    G_prob = tf.nn.sigmoid(tf.matmul(G_h2, G_W3) + G_b3) # [0,1] normalized Output\n",
        "    \n",
        "    return G_prob\n",
        "    \n",
        "#%% 2. Discriminator\n",
        "def discriminator(x, m, g, h):\n",
        "    inp = m * x + (1-m) * g  # Replace missing values to the imputed values\n",
        "    inputs = tf.concat(axis = 1, values = [inp,h])  # Hint + Data Concatenate\n",
        "    D_h1 = tf.nn.relu(tf.matmul(inputs, D_W1) + D_b1)\n",
        "    D_h2 = tf.nn.relu(tf.matmul(D_h1, D_W2) + D_b2)\n",
        "    D_logit = tf.matmul(D_h2, D_W3) + D_b3\n",
        "    D_prob = tf.nn.sigmoid(D_logit)  # [0,1] Probability Output\n",
        "    \n",
        "    return D_prob\n",
        "\n",
        "#%% 3. Others\n",
        "# Random sample generator for Z\n",
        "def sample_Z(m, n):\n",
        "    return np.random.uniform(0., 1., size = [m, n])        \n",
        "\n",
        "# Mask Vector and Hint Vector Generation\n",
        "def sample_M(m, n, p):\n",
        "    A = np.random.uniform(0., 1., size = [m, n])\n",
        "    B = A > p\n",
        "    C = 1.*B\n",
        "    return C\n",
        "\n",
        "#%% Structure\n",
        "G_sample = generator(X,Z,M)\n",
        "D_prob = discriminator(X, M, G_sample, H)\n",
        "\n",
        "#%% Loss\n",
        "D_loss1 = -tf.reduce_mean(M * tf.log(D_prob + 1e-8) + (1-M) * tf.log(1. - D_prob + 1e-8)) * 2\n",
        "G_loss1 = -tf.reduce_mean((1-M) * tf.log(D_prob + 1e-8)) / tf.reduce_mean(1-M)\n",
        "MSE_train_loss = tf.reduce_mean((M * X - M * G_sample)**2) / tf.reduce_mean(M)\n",
        "\n",
        "D_loss = D_loss1\n",
        "G_loss = G_loss1  + alpha * MSE_train_loss \n",
        "\n",
        "#%% MSE Performance metric\n",
        "MSE_test_loss = tf.reduce_mean(((1-M) * X - (1-M)*G_sample)**2) / tf.reduce_mean(1-M)\n",
        "\n",
        "#%% Solver\n",
        "D_solver = tf.train.AdamOptimizer().minimize(D_loss, var_list=theta_D)\n",
        "G_solver = tf.train.AdamOptimizer().minimize(G_loss, var_list=theta_G)\n",
        "\n",
        "# Sessions\n",
        "sess = tf.Session()\n",
        "sess.run(tf.global_variables_initializer())\n",
        "\n",
        "#%%\n",
        "# Output Initialization\n",
        "if not os.path.exists('Multiple_Impute_out1/'):\n",
        "    os.makedirs('Multiple_Impute_out1/')\n",
        "    \n",
        "# Iteration Initialization\n",
        "i = 1\n",
        "\n",
        "#%% Start Iterations\n",
        "for it in tqdm(range(10000)):    \n",
        "    \n",
        "    #%% Inputs\n",
        "    X_mb, _ = mnist.train.next_batch(mb_size)    \n",
        "    Z_mb = sample_Z(mb_size, Dim) \n",
        "    M_mb = sample_M(mb_size, Dim, p_miss)\n",
        "    H_mb1 = sample_M(mb_size, Dim, 1-p_hint)\n",
        "    H_mb = M_mb * H_mb1\n",
        "    \n",
        "    New_X_mb = M_mb * X_mb + (1-M_mb) * Z_mb  # Missing Data Introduce\n",
        "    \n",
        "    _, D_loss_curr = sess.run([D_solver, D_loss1], feed_dict = {X: X_mb, M: M_mb, Z: New_X_mb, H: H_mb})\n",
        "    _, G_loss_curr, MSE_train_loss_curr, MSE_test_loss_curr = sess.run([G_solver, G_loss1, MSE_train_loss, MSE_test_loss],\n",
        "                                                                       feed_dict = {X: X_mb, M: M_mb, Z: New_X_mb, H: H_mb})\n",
        "            \n",
        "    #%% Output figure\n",
        "    if it % 100 == 0:\n",
        "        X_mb, _ = mnist.train.next_batch(5)    \n",
        "        Z_mb = sample_Z(5, Dim) \n",
        "        M_mb = sample_M(5, Dim, p_miss)\n",
        "    \n",
        "        New_X_mb = M_mb * X_mb + (1-M_mb) * Z_mb\n",
        "        \n",
        "        samples1 = X_mb                \n",
        "        samples5 = M_mb * X_mb + (1-M_mb) * Z_mb\n",
        "        \n",
        "        samples2 = sess.run(G_sample, feed_dict = {X: X_mb, M: M_mb, Z: New_X_mb})\n",
        "        samples2 = M_mb * X_mb + (1-M_mb) * samples2        \n",
        "        \n",
        "        Z_mb = sample_Z(5, Dim) \n",
        "        New_X_mb = M_mb * X_mb + (1-M_mb) * Z_mb       \n",
        "        samples3 = sess.run(G_sample, feed_dict = {X: X_mb, M: M_mb, Z: New_X_mb})\n",
        "        samples3 = M_mb * X_mb + (1-M_mb) * samples3     \n",
        "        \n",
        "        Z_mb = sample_Z(5, Dim) \n",
        "        New_X_mb = M_mb * X_mb + (1-M_mb) * Z_mb       \n",
        "        samples4 = sess.run(G_sample, feed_dict = {X: X_mb, M: M_mb, Z: New_X_mb})\n",
        "        samples4 = M_mb * X_mb + (1-M_mb) * samples4     \n",
        "        \n",
        "        samples = np.vstack([samples5, samples2, samples3, samples4, samples1])          \n",
        "        \n",
        "        fig = plot(samples)\n",
        "        plt.savefig('Multiple_Impute_out1/{}.png'.format(str(i).zfill(3)), bbox_inches='tight')\n",
        "        i += 1\n",
        "        plt.close(fig)\n",
        "        \n",
        "    #%% Intermediate Losses\n",
        "    if it % 100 == 0:\n",
        "        print('Iter: {}'.format(it))\n",
        "        print('Train_loss: {:.4}'.format(MSE_train_loss_curr))\n",
        "        print('Test_loss: {:.4}'.format(MSE_test_loss_curr))\n",
        "        print()\n",
        "    \n",
        "\n"
      ],
      "execution_count": 5,
      "outputs": [
        {
          "output_type": "stream",
          "text": [
            "  0%|          | 4/10000 [00:01<3:17:13,  1.18s/it]"
          ],
          "name": "stderr"
        },
        {
          "output_type": "stream",
          "text": [
            "Iter: 0\n",
            "Train_loss: 0.2546\n",
            "Test_loss: 0.256\n",
            "()\n"
          ],
          "name": "stdout"
        },
        {
          "output_type": "stream",
          "text": [
            "  1%|          | 103/10000 [00:08<35:25,  4.66it/s]"
          ],
          "name": "stderr"
        },
        {
          "output_type": "stream",
          "text": [
            "Iter: 100\n",
            "Train_loss: 0.06313\n",
            "Test_loss: 0.06529\n",
            "()\n"
          ],
          "name": "stdout"
        },
        {
          "output_type": "stream",
          "text": [
            "  2%|▏         | 203/10000 [00:15<33:00,  4.95it/s]"
          ],
          "name": "stderr"
        },
        {
          "output_type": "stream",
          "text": [
            "Iter: 200\n",
            "Train_loss: 0.04982\n",
            "Test_loss: 0.05366\n",
            "()\n"
          ],
          "name": "stdout"
        },
        {
          "output_type": "stream",
          "text": [
            "  3%|▎         | 303/10000 [00:22<36:37,  4.41it/s]"
          ],
          "name": "stderr"
        },
        {
          "output_type": "stream",
          "text": [
            "Iter: 300\n",
            "Train_loss: 0.04373\n",
            "Test_loss: 0.04752\n",
            "()\n"
          ],
          "name": "stdout"
        },
        {
          "output_type": "stream",
          "text": [
            "  4%|▍         | 403/10000 [00:30<32:26,  4.93it/s]"
          ],
          "name": "stderr"
        },
        {
          "output_type": "stream",
          "text": [
            "Iter: 400\n",
            "Train_loss: 0.03893\n",
            "Test_loss: 0.04339\n",
            "()\n"
          ],
          "name": "stdout"
        },
        {
          "output_type": "stream",
          "text": [
            "  5%|▌         | 503/10000 [00:36<31:26,  5.03it/s]"
          ],
          "name": "stderr"
        },
        {
          "output_type": "stream",
          "text": [
            "Iter: 500\n",
            "Train_loss: 0.03422\n",
            "Test_loss: 0.0407\n",
            "()\n"
          ],
          "name": "stdout"
        },
        {
          "output_type": "stream",
          "text": [
            "  6%|▌         | 604/10000 [00:43<35:51,  4.37it/s]"
          ],
          "name": "stderr"
        },
        {
          "output_type": "stream",
          "text": [
            "Iter: 600\n",
            "Train_loss: 0.03337\n",
            "Test_loss: 0.03904\n",
            "()\n"
          ],
          "name": "stdout"
        },
        {
          "output_type": "stream",
          "text": [
            "  7%|▋         | 704/10000 [00:50<31:06,  4.98it/s]"
          ],
          "name": "stderr"
        },
        {
          "output_type": "stream",
          "text": [
            "Iter: 700\n",
            "Train_loss: 0.02999\n",
            "Test_loss: 0.03678\n",
            "()\n"
          ],
          "name": "stdout"
        },
        {
          "output_type": "stream",
          "text": [
            "  8%|▊         | 804/10000 [00:57<30:22,  5.05it/s]"
          ],
          "name": "stderr"
        },
        {
          "output_type": "stream",
          "text": [
            "Iter: 800\n",
            "Train_loss: 0.02823\n",
            "Test_loss: 0.03502\n",
            "()\n"
          ],
          "name": "stdout"
        },
        {
          "output_type": "stream",
          "text": [
            "  9%|▉         | 904/10000 [01:04<36:57,  4.10it/s]"
          ],
          "name": "stderr"
        },
        {
          "output_type": "stream",
          "text": [
            "Iter: 900\n",
            "Train_loss: 0.0281\n",
            "Test_loss: 0.03608\n",
            "()\n"
          ],
          "name": "stdout"
        },
        {
          "output_type": "stream",
          "text": [
            " 10%|█         | 1004/10000 [01:12<31:09,  4.81it/s]"
          ],
          "name": "stderr"
        },
        {
          "output_type": "stream",
          "text": [
            "Iter: 1000\n",
            "Train_loss: 0.02621\n",
            "Test_loss: 0.03319\n",
            "()\n"
          ],
          "name": "stdout"
        },
        {
          "output_type": "stream",
          "text": [
            " 11%|█         | 1104/10000 [01:20<30:55,  4.80it/s]"
          ],
          "name": "stderr"
        },
        {
          "output_type": "stream",
          "text": [
            "Iter: 1100\n",
            "Train_loss: 0.0251\n",
            "Test_loss: 0.0337\n",
            "()\n"
          ],
          "name": "stdout"
        },
        {
          "output_type": "stream",
          "text": [
            " 12%|█▏        | 1204/10000 [01:28<38:06,  3.85it/s]"
          ],
          "name": "stderr"
        },
        {
          "output_type": "stream",
          "text": [
            "Iter: 1200\n",
            "Train_loss: 0.02574\n",
            "Test_loss: 0.03281\n",
            "()\n"
          ],
          "name": "stdout"
        },
        {
          "output_type": "stream",
          "text": [
            " 13%|█▎        | 1304/10000 [01:36<29:10,  4.97it/s]"
          ],
          "name": "stderr"
        },
        {
          "output_type": "stream",
          "text": [
            "Iter: 1300\n",
            "Train_loss: 0.02395\n",
            "Test_loss: 0.03174\n",
            "()\n"
          ],
          "name": "stdout"
        },
        {
          "output_type": "stream",
          "text": [
            " 14%|█▍        | 1404/10000 [01:43<28:59,  4.94it/s]"
          ],
          "name": "stderr"
        },
        {
          "output_type": "stream",
          "text": [
            "Iter: 1400\n",
            "Train_loss: 0.02604\n",
            "Test_loss: 0.03507\n",
            "()\n"
          ],
          "name": "stdout"
        },
        {
          "output_type": "stream",
          "text": [
            " 15%|█▌        | 1504/10000 [01:50<28:15,  5.01it/s]"
          ],
          "name": "stderr"
        },
        {
          "output_type": "stream",
          "text": [
            "Iter: 1500\n",
            "Train_loss: 0.02181\n",
            "Test_loss: 0.03077\n",
            "()\n"
          ],
          "name": "stdout"
        },
        {
          "output_type": "stream",
          "text": [
            " 16%|█▌        | 1604/10000 [01:57<36:24,  3.84it/s]"
          ],
          "name": "stderr"
        },
        {
          "output_type": "stream",
          "text": [
            "Iter: 1600\n",
            "Train_loss: 0.022\n",
            "Test_loss: 0.03163\n",
            "()\n"
          ],
          "name": "stdout"
        },
        {
          "output_type": "stream",
          "text": [
            " 17%|█▋        | 1704/10000 [02:04<27:22,  5.05it/s]"
          ],
          "name": "stderr"
        },
        {
          "output_type": "stream",
          "text": [
            "Iter: 1700\n",
            "Train_loss: 0.02193\n",
            "Test_loss: 0.03174\n",
            "()\n"
          ],
          "name": "stdout"
        },
        {
          "output_type": "stream",
          "text": [
            " 18%|█▊        | 1804/10000 [02:10<27:20,  4.99it/s]"
          ],
          "name": "stderr"
        },
        {
          "output_type": "stream",
          "text": [
            "Iter: 1800\n",
            "Train_loss: 0.02122\n",
            "Test_loss: 0.03064\n",
            "()\n"
          ],
          "name": "stdout"
        },
        {
          "output_type": "stream",
          "text": [
            " 19%|█▉        | 1904/10000 [02:18<27:38,  4.88it/s]"
          ],
          "name": "stderr"
        },
        {
          "output_type": "stream",
          "text": [
            "Iter: 1900\n",
            "Train_loss: 0.02114\n",
            "Test_loss: 0.03132\n",
            "()\n"
          ],
          "name": "stdout"
        },
        {
          "output_type": "stream",
          "text": [
            " 20%|██        | 2004/10000 [02:25<27:17,  4.88it/s]"
          ],
          "name": "stderr"
        },
        {
          "output_type": "stream",
          "text": [
            "Iter: 2000\n",
            "Train_loss: 0.02218\n",
            "Test_loss: 0.03138\n",
            "()\n"
          ],
          "name": "stdout"
        },
        {
          "output_type": "stream",
          "text": [
            " 21%|██        | 2104/10000 [02:33<26:45,  4.92it/s]"
          ],
          "name": "stderr"
        },
        {
          "output_type": "stream",
          "text": [
            "Iter: 2100\n",
            "Train_loss: 0.02137\n",
            "Test_loss: 0.03106\n",
            "()\n"
          ],
          "name": "stdout"
        },
        {
          "output_type": "stream",
          "text": [
            " 22%|██▏       | 2204/10000 [02:41<36:30,  3.56it/s]"
          ],
          "name": "stderr"
        },
        {
          "output_type": "stream",
          "text": [
            "Iter: 2200\n",
            "Train_loss: 0.02152\n",
            "Test_loss: 0.03096\n",
            "()\n"
          ],
          "name": "stdout"
        },
        {
          "output_type": "stream",
          "text": [
            " 23%|██▎       | 2304/10000 [02:48<25:42,  4.99it/s]"
          ],
          "name": "stderr"
        },
        {
          "output_type": "stream",
          "text": [
            "Iter: 2300\n",
            "Train_loss: 0.02001\n",
            "Test_loss: 0.02932\n",
            "()\n"
          ],
          "name": "stdout"
        },
        {
          "output_type": "stream",
          "text": [
            " 24%|██▍       | 2404/10000 [02:55<25:15,  5.01it/s]"
          ],
          "name": "stderr"
        },
        {
          "output_type": "stream",
          "text": [
            "Iter: 2400\n",
            "Train_loss: 0.02114\n",
            "Test_loss: 0.03074\n",
            "()\n"
          ],
          "name": "stdout"
        },
        {
          "output_type": "stream",
          "text": [
            " 25%|██▌       | 2504/10000 [03:02<24:50,  5.03it/s]"
          ],
          "name": "stderr"
        },
        {
          "output_type": "stream",
          "text": [
            "Iter: 2500\n",
            "Train_loss: 0.02072\n",
            "Test_loss: 0.03067\n",
            "()\n"
          ],
          "name": "stdout"
        },
        {
          "output_type": "stream",
          "text": [
            " 26%|██▌       | 2604/10000 [03:08<24:04,  5.12it/s]"
          ],
          "name": "stderr"
        },
        {
          "output_type": "stream",
          "text": [
            "Iter: 2600\n",
            "Train_loss: 0.0201\n",
            "Test_loss: 0.03076\n",
            "()\n"
          ],
          "name": "stdout"
        },
        {
          "output_type": "stream",
          "text": [
            " 27%|██▋       | 2704/10000 [03:15<24:35,  4.94it/s]"
          ],
          "name": "stderr"
        },
        {
          "output_type": "stream",
          "text": [
            "Iter: 2700\n",
            "Train_loss: 0.0189\n",
            "Test_loss: 0.02849\n",
            "()\n"
          ],
          "name": "stdout"
        },
        {
          "output_type": "stream",
          "text": [
            " 28%|██▊       | 2802/10000 [03:23<34:35,  3.47it/s]"
          ],
          "name": "stderr"
        },
        {
          "output_type": "stream",
          "text": [
            "Iter: 2800\n",
            "Train_loss: 0.01868\n",
            "Test_loss: 0.02923\n",
            "()\n"
          ],
          "name": "stdout"
        },
        {
          "output_type": "stream",
          "text": [
            " 29%|██▉       | 2904/10000 [03:33<37:26,  3.16it/s]"
          ],
          "name": "stderr"
        },
        {
          "output_type": "stream",
          "text": [
            "Iter: 2900\n",
            "Train_loss: 0.01998\n",
            "Test_loss: 0.02972\n",
            "()\n"
          ],
          "name": "stdout"
        },
        {
          "output_type": "stream",
          "text": [
            " 30%|███       | 3004/10000 [03:40<24:08,  4.83it/s]"
          ],
          "name": "stderr"
        },
        {
          "output_type": "stream",
          "text": [
            "Iter: 3000\n",
            "Train_loss: 0.01886\n",
            "Test_loss: 0.02941\n",
            "()\n"
          ],
          "name": "stdout"
        },
        {
          "output_type": "stream",
          "text": [
            " 31%|███       | 3104/10000 [03:47<22:56,  5.01it/s]"
          ],
          "name": "stderr"
        },
        {
          "output_type": "stream",
          "text": [
            "Iter: 3100\n",
            "Train_loss: 0.01983\n",
            "Test_loss: 0.02945\n",
            "()\n"
          ],
          "name": "stdout"
        },
        {
          "output_type": "stream",
          "text": [
            " 32%|███▏      | 3204/10000 [03:55<23:08,  4.90it/s]"
          ],
          "name": "stderr"
        },
        {
          "output_type": "stream",
          "text": [
            "Iter: 3200\n",
            "Train_loss: 0.01924\n",
            "Test_loss: 0.02907\n",
            "()\n"
          ],
          "name": "stdout"
        },
        {
          "output_type": "stream",
          "text": [
            " 33%|███▎      | 3304/10000 [04:02<22:48,  4.89it/s]"
          ],
          "name": "stderr"
        },
        {
          "output_type": "stream",
          "text": [
            "Iter: 3300\n",
            "Train_loss: 0.01758\n",
            "Test_loss: 0.02759\n",
            "()\n"
          ],
          "name": "stdout"
        },
        {
          "output_type": "stream",
          "text": [
            " 34%|███▍      | 3404/10000 [04:09<22:11,  4.95it/s]"
          ],
          "name": "stderr"
        },
        {
          "output_type": "stream",
          "text": [
            "Iter: 3400\n",
            "Train_loss: 0.01826\n",
            "Test_loss: 0.02999\n",
            "()\n"
          ],
          "name": "stdout"
        },
        {
          "output_type": "stream",
          "text": [
            " 35%|███▌      | 3504/10000 [04:16<21:25,  5.05it/s]"
          ],
          "name": "stderr"
        },
        {
          "output_type": "stream",
          "text": [
            "Iter: 3500\n",
            "Train_loss: 0.01811\n",
            "Test_loss: 0.02924\n",
            "()\n"
          ],
          "name": "stdout"
        },
        {
          "output_type": "stream",
          "text": [
            " 36%|███▌      | 3604/10000 [04:23<21:19,  5.00it/s]"
          ],
          "name": "stderr"
        },
        {
          "output_type": "stream",
          "text": [
            "Iter: 3600\n",
            "Train_loss: 0.01762\n",
            "Test_loss: 0.02827\n",
            "()\n"
          ],
          "name": "stdout"
        },
        {
          "output_type": "stream",
          "text": [
            " 37%|███▋      | 3704/10000 [04:31<34:09,  3.07it/s]"
          ],
          "name": "stderr"
        },
        {
          "output_type": "stream",
          "text": [
            "Iter: 3700\n",
            "Train_loss: 0.01837\n",
            "Test_loss: 0.02842\n",
            "()\n"
          ],
          "name": "stdout"
        },
        {
          "output_type": "stream",
          "text": [
            " 38%|███▊      | 3804/10000 [04:38<20:21,  5.07it/s]"
          ],
          "name": "stderr"
        },
        {
          "output_type": "stream",
          "text": [
            "Iter: 3800\n",
            "Train_loss: 0.01754\n",
            "Test_loss: 0.0281\n",
            "()\n"
          ],
          "name": "stdout"
        },
        {
          "output_type": "stream",
          "text": [
            " 39%|███▉      | 3903/10000 [04:44<15:22,  6.61it/s]"
          ],
          "name": "stderr"
        },
        {
          "output_type": "stream",
          "text": [
            "Iter: 3900\n",
            "Train_loss: 0.01704\n",
            "Test_loss: 0.02664\n",
            "()\n"
          ],
          "name": "stdout"
        },
        {
          "output_type": "stream",
          "text": [
            " 40%|████      | 4003/10000 [04:52<20:58,  4.77it/s]"
          ],
          "name": "stderr"
        },
        {
          "output_type": "stream",
          "text": [
            "Iter: 4000\n",
            "Train_loss: 0.01796\n",
            "Test_loss: 0.02954\n",
            "()\n"
          ],
          "name": "stdout"
        },
        {
          "output_type": "stream",
          "text": [
            " 41%|████      | 4103/10000 [05:00<20:41,  4.75it/s]"
          ],
          "name": "stderr"
        },
        {
          "output_type": "stream",
          "text": [
            "Iter: 4100\n",
            "Train_loss: 0.01775\n",
            "Test_loss: 0.02984\n",
            "()\n"
          ],
          "name": "stdout"
        },
        {
          "output_type": "stream",
          "text": [
            " 42%|████▏     | 4203/10000 [05:08<20:15,  4.77it/s]"
          ],
          "name": "stderr"
        },
        {
          "output_type": "stream",
          "text": [
            "Iter: 4200\n",
            "Train_loss: 0.01738\n",
            "Test_loss: 0.02761\n",
            "()\n"
          ],
          "name": "stdout"
        },
        {
          "output_type": "stream",
          "text": [
            " 43%|████▎     | 4303/10000 [05:16<19:47,  4.80it/s]"
          ],
          "name": "stderr"
        },
        {
          "output_type": "stream",
          "text": [
            "Iter: 4300\n",
            "Train_loss: 0.01759\n",
            "Test_loss: 0.02905\n",
            "()\n"
          ],
          "name": "stdout"
        },
        {
          "output_type": "stream",
          "text": [
            " 44%|████▍     | 4403/10000 [05:23<19:14,  4.85it/s]"
          ],
          "name": "stderr"
        },
        {
          "output_type": "stream",
          "text": [
            "Iter: 4400\n",
            "Train_loss: 0.0182\n",
            "Test_loss: 0.02848\n",
            "()\n"
          ],
          "name": "stdout"
        },
        {
          "output_type": "stream",
          "text": [
            " 45%|████▌     | 4503/10000 [05:31<18:46,  4.88it/s]"
          ],
          "name": "stderr"
        },
        {
          "output_type": "stream",
          "text": [
            "Iter: 4500\n",
            "Train_loss: 0.01654\n",
            "Test_loss: 0.02689\n",
            "()\n"
          ],
          "name": "stdout"
        },
        {
          "output_type": "stream",
          "text": [
            " 46%|████▌     | 4603/10000 [05:38<18:21,  4.90it/s]"
          ],
          "name": "stderr"
        },
        {
          "output_type": "stream",
          "text": [
            "Iter: 4600\n",
            "Train_loss: 0.01726\n",
            "Test_loss: 0.02814\n",
            "()\n"
          ],
          "name": "stdout"
        },
        {
          "output_type": "stream",
          "text": [
            " 47%|████▋     | 4703/10000 [05:45<17:50,  4.95it/s]"
          ],
          "name": "stderr"
        },
        {
          "output_type": "stream",
          "text": [
            "Iter: 4700\n",
            "Train_loss: 0.01711\n",
            "Test_loss: 0.0281\n",
            "()\n"
          ],
          "name": "stdout"
        },
        {
          "output_type": "stream",
          "text": [
            " 48%|████▊     | 4803/10000 [05:53<31:00,  2.79it/s]"
          ],
          "name": "stderr"
        },
        {
          "output_type": "stream",
          "text": [
            "Iter: 4800\n",
            "Train_loss: 0.01674\n",
            "Test_loss: 0.02727\n",
            "()\n"
          ],
          "name": "stdout"
        },
        {
          "output_type": "stream",
          "text": [
            " 49%|████▉     | 4903/10000 [06:00<16:59,  5.00it/s]"
          ],
          "name": "stderr"
        },
        {
          "output_type": "stream",
          "text": [
            "Iter: 4900\n",
            "Train_loss: 0.0168\n",
            "Test_loss: 0.02755\n",
            "()\n"
          ],
          "name": "stdout"
        },
        {
          "output_type": "stream",
          "text": [
            " 50%|█████     | 5003/10000 [06:07<16:35,  5.02it/s]"
          ],
          "name": "stderr"
        },
        {
          "output_type": "stream",
          "text": [
            "Iter: 5000\n",
            "Train_loss: 0.0167\n",
            "Test_loss: 0.02723\n",
            "()\n"
          ],
          "name": "stdout"
        },
        {
          "output_type": "stream",
          "text": [
            " 51%|█████     | 5103/10000 [06:14<16:08,  5.05it/s]"
          ],
          "name": "stderr"
        },
        {
          "output_type": "stream",
          "text": [
            "Iter: 5100\n",
            "Train_loss: 0.01588\n",
            "Test_loss: 0.02696\n",
            "()\n"
          ],
          "name": "stdout"
        },
        {
          "output_type": "stream",
          "text": [
            " 52%|█████▏    | 5204/10000 [06:21<16:03,  4.98it/s]"
          ],
          "name": "stderr"
        },
        {
          "output_type": "stream",
          "text": [
            "Iter: 5200\n",
            "Train_loss: 0.01749\n",
            "Test_loss: 0.02832\n",
            "()\n"
          ],
          "name": "stdout"
        },
        {
          "output_type": "stream",
          "text": [
            " 53%|█████▎    | 5304/10000 [06:29<16:23,  4.77it/s]"
          ],
          "name": "stderr"
        },
        {
          "output_type": "stream",
          "text": [
            "Iter: 5300\n",
            "Train_loss: 0.01571\n",
            "Test_loss: 0.02669\n",
            "()\n"
          ],
          "name": "stdout"
        },
        {
          "output_type": "stream",
          "text": [
            " 54%|█████▍    | 5404/10000 [06:36<15:52,  4.83it/s]"
          ],
          "name": "stderr"
        },
        {
          "output_type": "stream",
          "text": [
            "Iter: 5400\n",
            "Train_loss: 0.01599\n",
            "Test_loss: 0.02746\n",
            "()\n"
          ],
          "name": "stdout"
        },
        {
          "output_type": "stream",
          "text": [
            " 55%|█████▌    | 5504/10000 [06:44<15:29,  4.84it/s]"
          ],
          "name": "stderr"
        },
        {
          "output_type": "stream",
          "text": [
            "Iter: 5500\n",
            "Train_loss: 0.01563\n",
            "Test_loss: 0.02776\n",
            "()\n"
          ],
          "name": "stdout"
        },
        {
          "output_type": "stream",
          "text": [
            " 56%|█████▌    | 5602/10000 [06:51<19:25,  3.77it/s]"
          ],
          "name": "stderr"
        },
        {
          "output_type": "stream",
          "text": [
            "Iter: 5600\n",
            "Train_loss: 0.01654\n",
            "Test_loss: 0.0276\n",
            "()\n"
          ],
          "name": "stdout"
        },
        {
          "output_type": "stream",
          "text": [
            " 57%|█████▋    | 5702/10000 [07:00<20:04,  3.57it/s]"
          ],
          "name": "stderr"
        },
        {
          "output_type": "stream",
          "text": [
            "Iter: 5700\n",
            "Train_loss: 0.01696\n",
            "Test_loss: 0.02861\n",
            "()\n"
          ],
          "name": "stdout"
        },
        {
          "output_type": "stream",
          "text": [
            " 58%|█████▊    | 5802/10000 [07:09<19:24,  3.61it/s]"
          ],
          "name": "stderr"
        },
        {
          "output_type": "stream",
          "text": [
            "Iter: 5800\n",
            "Train_loss: 0.01651\n",
            "Test_loss: 0.02684\n",
            "()\n"
          ],
          "name": "stdout"
        },
        {
          "output_type": "stream",
          "text": [
            " 59%|█████▉    | 5902/10000 [07:17<18:35,  3.67it/s]"
          ],
          "name": "stderr"
        },
        {
          "output_type": "stream",
          "text": [
            "Iter: 5900\n",
            "Train_loss: 0.0168\n",
            "Test_loss: 0.02833\n",
            "()\n"
          ],
          "name": "stdout"
        },
        {
          "output_type": "stream",
          "text": [
            " 60%|██████    | 6002/10000 [07:28<37:47,  1.76it/s]"
          ],
          "name": "stderr"
        },
        {
          "output_type": "stream",
          "text": [
            "Iter: 6000\n",
            "Train_loss: 0.01616\n",
            "Test_loss: 0.02786\n",
            "()\n"
          ],
          "name": "stdout"
        },
        {
          "output_type": "stream",
          "text": [
            " 61%|██████    | 6103/10000 [07:34<13:10,  4.93it/s]"
          ],
          "name": "stderr"
        },
        {
          "output_type": "stream",
          "text": [
            "Iter: 6100\n",
            "Train_loss: 0.01649\n",
            "Test_loss: 0.02834\n",
            "()\n"
          ],
          "name": "stdout"
        },
        {
          "output_type": "stream",
          "text": [
            " 62%|██████▏   | 6203/10000 [07:43<13:26,  4.71it/s]"
          ],
          "name": "stderr"
        },
        {
          "output_type": "stream",
          "text": [
            "Iter: 6200\n",
            "Train_loss: 0.01622\n",
            "Test_loss: 0.02761\n",
            "()\n"
          ],
          "name": "stdout"
        },
        {
          "output_type": "stream",
          "text": [
            " 63%|██████▎   | 6303/10000 [07:51<12:54,  4.77it/s]"
          ],
          "name": "stderr"
        },
        {
          "output_type": "stream",
          "text": [
            "Iter: 6300\n",
            "Train_loss: 0.01587\n",
            "Test_loss: 0.02859\n",
            "()\n"
          ],
          "name": "stdout"
        },
        {
          "output_type": "stream",
          "text": [
            " 64%|██████▍   | 6403/10000 [07:59<12:45,  4.70it/s]"
          ],
          "name": "stderr"
        },
        {
          "output_type": "stream",
          "text": [
            "Iter: 6400\n",
            "Train_loss: 0.01644\n",
            "Test_loss: 0.02722\n",
            "()\n"
          ],
          "name": "stdout"
        },
        {
          "output_type": "stream",
          "text": [
            " 65%|██████▌   | 6504/10000 [08:06<11:34,  5.03it/s]"
          ],
          "name": "stderr"
        },
        {
          "output_type": "stream",
          "text": [
            "Iter: 6500\n",
            "Train_loss: 0.01622\n",
            "Test_loss: 0.02772\n",
            "()\n"
          ],
          "name": "stdout"
        },
        {
          "output_type": "stream",
          "text": [
            " 66%|██████▌   | 6603/10000 [08:13<10:36,  5.34it/s]"
          ],
          "name": "stderr"
        },
        {
          "output_type": "stream",
          "text": [
            "Iter: 6600\n",
            "Train_loss: 0.01622\n",
            "Test_loss: 0.0271\n",
            "()\n"
          ],
          "name": "stdout"
        },
        {
          "output_type": "stream",
          "text": [
            " 67%|██████▋   | 6703/10000 [08:19<08:01,  6.84it/s]"
          ],
          "name": "stderr"
        },
        {
          "output_type": "stream",
          "text": [
            "Iter: 6700\n",
            "Train_loss: 0.01627\n",
            "Test_loss: 0.02796\n",
            "()\n"
          ],
          "name": "stdout"
        },
        {
          "output_type": "stream",
          "text": [
            " 68%|██████▊   | 6803/10000 [08:25<10:00,  5.32it/s]"
          ],
          "name": "stderr"
        },
        {
          "output_type": "stream",
          "text": [
            "Iter: 6800\n",
            "Train_loss: 0.01606\n",
            "Test_loss: 0.02702\n",
            "()\n"
          ],
          "name": "stdout"
        },
        {
          "output_type": "stream",
          "text": [
            " 69%|██████▉   | 6904/10000 [08:32<10:42,  4.82it/s]"
          ],
          "name": "stderr"
        },
        {
          "output_type": "stream",
          "text": [
            "Iter: 6900\n",
            "Train_loss: 0.01431\n",
            "Test_loss: 0.02491\n",
            "()\n"
          ],
          "name": "stdout"
        },
        {
          "output_type": "stream",
          "text": [
            " 70%|███████   | 7004/10000 [08:39<10:16,  4.86it/s]"
          ],
          "name": "stderr"
        },
        {
          "output_type": "stream",
          "text": [
            "Iter: 7000\n",
            "Train_loss: 0.01655\n",
            "Test_loss: 0.02852\n",
            "()\n"
          ],
          "name": "stdout"
        },
        {
          "output_type": "stream",
          "text": [
            " 71%|███████   | 7103/10000 [08:45<09:27,  5.10it/s]"
          ],
          "name": "stderr"
        },
        {
          "output_type": "stream",
          "text": [
            "Iter: 7100\n",
            "Train_loss: 0.01535\n",
            "Test_loss: 0.02737\n",
            "()\n"
          ],
          "name": "stdout"
        },
        {
          "output_type": "stream",
          "text": [
            " 72%|███████▏  | 7203/10000 [08:52<09:08,  5.10it/s]"
          ],
          "name": "stderr"
        },
        {
          "output_type": "stream",
          "text": [
            "Iter: 7200\n",
            "Train_loss: 0.01595\n",
            "Test_loss: 0.02715\n",
            "()\n"
          ],
          "name": "stdout"
        },
        {
          "output_type": "stream",
          "text": [
            " 73%|███████▎  | 7302/10000 [08:58<08:48,  5.10it/s]"
          ],
          "name": "stderr"
        },
        {
          "output_type": "stream",
          "text": [
            "Iter: 7300\n",
            "Train_loss: 0.0154\n",
            "Test_loss: 0.02774\n",
            "()\n"
          ],
          "name": "stdout"
        },
        {
          "output_type": "stream",
          "text": [
            " 74%|███████▍  | 7403/10000 [09:05<06:20,  6.83it/s]"
          ],
          "name": "stderr"
        },
        {
          "output_type": "stream",
          "text": [
            "Iter: 7400\n",
            "Train_loss: 0.01648\n",
            "Test_loss: 0.02943\n",
            "()\n"
          ],
          "name": "stdout"
        },
        {
          "output_type": "stream",
          "text": [
            " 75%|███████▌  | 7502/10000 [09:11<10:47,  3.86it/s]"
          ],
          "name": "stderr"
        },
        {
          "output_type": "stream",
          "text": [
            "Iter: 7500\n",
            "Train_loss: 0.01618\n",
            "Test_loss: 0.0281\n",
            "()\n"
          ],
          "name": "stdout"
        },
        {
          "output_type": "stream",
          "text": [
            " 76%|███████▌  | 7604/10000 [09:20<12:40,  3.15it/s]"
          ],
          "name": "stderr"
        },
        {
          "output_type": "stream",
          "text": [
            "Iter: 7600\n",
            "Train_loss: 0.01556\n",
            "Test_loss: 0.02709\n",
            "()\n"
          ],
          "name": "stdout"
        },
        {
          "output_type": "stream",
          "text": [
            " 77%|███████▋  | 7704/10000 [09:28<08:01,  4.76it/s]"
          ],
          "name": "stderr"
        },
        {
          "output_type": "stream",
          "text": [
            "Iter: 7700\n",
            "Train_loss: 0.01546\n",
            "Test_loss: 0.02716\n",
            "()\n"
          ],
          "name": "stdout"
        },
        {
          "output_type": "stream",
          "text": [
            " 78%|███████▊  | 7804/10000 [09:35<07:21,  4.97it/s]"
          ],
          "name": "stderr"
        },
        {
          "output_type": "stream",
          "text": [
            "Iter: 7800\n",
            "Train_loss: 0.01542\n",
            "Test_loss: 0.02719\n",
            "()\n"
          ],
          "name": "stdout"
        },
        {
          "output_type": "stream",
          "text": [
            " 79%|███████▉  | 7904/10000 [09:42<07:06,  4.91it/s]"
          ],
          "name": "stderr"
        },
        {
          "output_type": "stream",
          "text": [
            "Iter: 7900\n",
            "Train_loss: 0.01436\n",
            "Test_loss: 0.0266\n",
            "()\n"
          ],
          "name": "stdout"
        },
        {
          "output_type": "stream",
          "text": [
            " 80%|████████  | 8004/10000 [09:50<06:50,  4.86it/s]"
          ],
          "name": "stderr"
        },
        {
          "output_type": "stream",
          "text": [
            "Iter: 8000\n",
            "Train_loss: 0.01565\n",
            "Test_loss: 0.02731\n",
            "()\n"
          ],
          "name": "stdout"
        },
        {
          "output_type": "stream",
          "text": [
            " 81%|████████  | 8104/10000 [09:57<06:26,  4.90it/s]"
          ],
          "name": "stderr"
        },
        {
          "output_type": "stream",
          "text": [
            "Iter: 8100\n",
            "Train_loss: 0.01606\n",
            "Test_loss: 0.02754\n",
            "()\n"
          ],
          "name": "stdout"
        },
        {
          "output_type": "stream",
          "text": [
            " 82%|████████▏ | 8204/10000 [10:04<05:57,  5.02it/s]"
          ],
          "name": "stderr"
        },
        {
          "output_type": "stream",
          "text": [
            "Iter: 8200\n",
            "Train_loss: 0.01462\n",
            "Test_loss: 0.02635\n",
            "()\n"
          ],
          "name": "stdout"
        },
        {
          "output_type": "stream",
          "text": [
            " 83%|████████▎ | 8304/10000 [10:11<05:38,  5.00it/s]"
          ],
          "name": "stderr"
        },
        {
          "output_type": "stream",
          "text": [
            "Iter: 8300\n",
            "Train_loss: 0.01511\n",
            "Test_loss: 0.02756\n",
            "()\n"
          ],
          "name": "stdout"
        },
        {
          "output_type": "stream",
          "text": [
            " 84%|████████▍ | 8404/10000 [10:18<05:19,  4.99it/s]"
          ],
          "name": "stderr"
        },
        {
          "output_type": "stream",
          "text": [
            "Iter: 8400\n",
            "Train_loss: 0.01519\n",
            "Test_loss: 0.02725\n",
            "()\n"
          ],
          "name": "stdout"
        },
        {
          "output_type": "stream",
          "text": [
            " 85%|████████▌ | 8504/10000 [10:26<05:02,  4.95it/s]"
          ],
          "name": "stderr"
        },
        {
          "output_type": "stream",
          "text": [
            "Iter: 8500\n",
            "Train_loss: 0.01617\n",
            "Test_loss: 0.02833\n",
            "()\n"
          ],
          "name": "stdout"
        },
        {
          "output_type": "stream",
          "text": [
            " 86%|████████▌ | 8603/10000 [10:32<03:30,  6.63it/s]"
          ],
          "name": "stderr"
        },
        {
          "output_type": "stream",
          "text": [
            "Iter: 8600\n",
            "Train_loss: 0.01571\n",
            "Test_loss: 0.02676\n",
            "()\n"
          ],
          "name": "stdout"
        },
        {
          "output_type": "stream",
          "text": [
            " 87%|████████▋ | 8703/10000 [10:39<04:17,  5.03it/s]"
          ],
          "name": "stderr"
        },
        {
          "output_type": "stream",
          "text": [
            "Iter: 8700\n",
            "Train_loss: 0.01588\n",
            "Test_loss: 0.02829\n",
            "()\n"
          ],
          "name": "stdout"
        },
        {
          "output_type": "stream",
          "text": [
            " 88%|████████▊ | 8803/10000 [10:46<03:58,  5.02it/s]"
          ],
          "name": "stderr"
        },
        {
          "output_type": "stream",
          "text": [
            "Iter: 8800\n",
            "Train_loss: 0.01473\n",
            "Test_loss: 0.02512\n",
            "()\n"
          ],
          "name": "stdout"
        },
        {
          "output_type": "stream",
          "text": [
            " 89%|████████▉ | 8903/10000 [10:54<03:47,  4.82it/s]"
          ],
          "name": "stderr"
        },
        {
          "output_type": "stream",
          "text": [
            "Iter: 8900\n",
            "Train_loss: 0.01558\n",
            "Test_loss: 0.02646\n",
            "()\n"
          ],
          "name": "stdout"
        },
        {
          "output_type": "stream",
          "text": [
            " 90%|█████████ | 9003/10000 [11:01<03:28,  4.78it/s]"
          ],
          "name": "stderr"
        },
        {
          "output_type": "stream",
          "text": [
            "Iter: 9000\n",
            "Train_loss: 0.01548\n",
            "Test_loss: 0.02689\n",
            "()\n"
          ],
          "name": "stdout"
        },
        {
          "output_type": "stream",
          "text": [
            " 91%|█████████ | 9103/10000 [11:09<03:01,  4.95it/s]"
          ],
          "name": "stderr"
        },
        {
          "output_type": "stream",
          "text": [
            "Iter: 9100\n",
            "Train_loss: 0.01488\n",
            "Test_loss: 0.02591\n",
            "()\n"
          ],
          "name": "stdout"
        },
        {
          "output_type": "stream",
          "text": [
            " 92%|█████████▏| 9203/10000 [11:16<02:43,  4.87it/s]"
          ],
          "name": "stderr"
        },
        {
          "output_type": "stream",
          "text": [
            "Iter: 9200\n",
            "Train_loss: 0.01467\n",
            "Test_loss: 0.02731\n",
            "()\n"
          ],
          "name": "stdout"
        },
        {
          "output_type": "stream",
          "text": [
            " 93%|█████████▎| 9303/10000 [11:24<02:20,  4.95it/s]"
          ],
          "name": "stderr"
        },
        {
          "output_type": "stream",
          "text": [
            "Iter: 9300\n",
            "Train_loss: 0.01475\n",
            "Test_loss: 0.02681\n",
            "()\n"
          ],
          "name": "stdout"
        },
        {
          "output_type": "stream",
          "text": [
            " 94%|█████████▍| 9403/10000 [11:31<02:00,  4.94it/s]"
          ],
          "name": "stderr"
        },
        {
          "output_type": "stream",
          "text": [
            "Iter: 9400\n",
            "Train_loss: 0.01569\n",
            "Test_loss: 0.02781\n",
            "()\n"
          ],
          "name": "stdout"
        },
        {
          "output_type": "stream",
          "text": [
            " 95%|█████████▌| 9503/10000 [11:38<01:38,  5.05it/s]"
          ],
          "name": "stderr"
        },
        {
          "output_type": "stream",
          "text": [
            "Iter: 9500\n",
            "Train_loss: 0.01494\n",
            "Test_loss: 0.02664\n",
            "()\n"
          ],
          "name": "stdout"
        },
        {
          "output_type": "stream",
          "text": [
            " 96%|█████████▌| 9603/10000 [11:48<03:22,  1.96it/s]"
          ],
          "name": "stderr"
        },
        {
          "output_type": "stream",
          "text": [
            "Iter: 9600\n",
            "Train_loss: 0.01462\n",
            "Test_loss: 0.02664\n",
            "()\n"
          ],
          "name": "stdout"
        },
        {
          "output_type": "stream",
          "text": [
            " 97%|█████████▋| 9703/10000 [11:55<00:59,  4.97it/s]"
          ],
          "name": "stderr"
        },
        {
          "output_type": "stream",
          "text": [
            "Iter: 9700\n",
            "Train_loss: 0.01494\n",
            "Test_loss: 0.02661\n",
            "()\n"
          ],
          "name": "stdout"
        },
        {
          "output_type": "stream",
          "text": [
            " 98%|█████████▊| 9803/10000 [12:02<00:39,  5.01it/s]"
          ],
          "name": "stderr"
        },
        {
          "output_type": "stream",
          "text": [
            "Iter: 9800\n",
            "Train_loss: 0.01382\n",
            "Test_loss: 0.02504\n",
            "()\n"
          ],
          "name": "stdout"
        },
        {
          "output_type": "stream",
          "text": [
            " 99%|█████████▉| 9903/10000 [12:08<00:18,  5.26it/s]"
          ],
          "name": "stderr"
        },
        {
          "output_type": "stream",
          "text": [
            "Iter: 9900\n",
            "Train_loss: 0.01574\n",
            "Test_loss: 0.02856\n",
            "()\n"
          ],
          "name": "stdout"
        },
        {
          "output_type": "stream",
          "text": [
            "100%|██████████| 10000/10000 [12:14<00:00, 13.62it/s]\n"
          ],
          "name": "stderr"
        }
      ]
    },
    {
      "metadata": {
        "id": "oLwAyJbzPd_2",
        "colab_type": "code",
        "colab": {}
      },
      "cell_type": "code",
      "source": [
        ""
      ],
      "execution_count": 0,
      "outputs": []
    }
  ]
}